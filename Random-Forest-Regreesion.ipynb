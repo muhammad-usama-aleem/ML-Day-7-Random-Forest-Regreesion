{
  "nbformat": 4,
  "nbformat_minor": 0,
  "metadata": {
    "colab": {
      "name": "Untitled0.ipynb",
      "provenance": [],
      "collapsed_sections": [],
      "authorship_tag": "ABX9TyMO3Pu6EOnV2Rn+NPNnlejq",
      "include_colab_link": true
    },
    "kernelspec": {
      "name": "python3",
      "display_name": "Python 3"
    },
    "language_info": {
      "name": "python"
    }
  },
  "cells": [
    {
      "cell_type": "markdown",
      "metadata": {
        "id": "view-in-github",
        "colab_type": "text"
      },
      "source": [
        "<a href=\"https://colab.research.google.com/github/muhammad-usama-aleem/ML-Day-7-Random-Forest-Regreesion/blob/main/Random-Forest-Regreesion.ipynb\" target=\"_parent\"><img src=\"https://colab.research.google.com/assets/colab-badge.svg\" alt=\"Open In Colab\"/></a>"
      ]
    },
    {
      "cell_type": "code",
      "metadata": {
        "id": "QMUaP_LfBm8x",
        "colab": {
          "base_uri": "https://localhost:8080/",
          "height": 312
        },
        "outputId": "26aa00c0-af65-434a-c6bf-132561e2f00f"
      },
      "source": [
        "# Importing the libraries\n",
        "import numpy as np\n",
        "import matplotlib.pyplot as plt\n",
        "import pandas as pd\n",
        "\n",
        "# Importing the dataset\n",
        "dataset = pd.read_csv('Position_Salaries.csv')\n",
        "x = dataset.iloc[:, 1:2].values\n",
        "y = dataset.iloc[:, 2].values\n",
        "\n",
        "# if the dataset is small then do not split the dataset into training and test set.\n",
        "\"\"\"# Splitting the dataset into the Training set and Test set\n",
        "from sklearn.model_selection import train_test_split\n",
        "\n",
        "x_train, x_test, y_train, y_test = train_test_split(x, y, test_size = 0.2, random_state = 0)\"\"\"\n",
        "\n",
        "\"\"\"# feature scaling\n",
        "from sklearn.preprocessing import StandardScaler\n",
        "\n",
        "# we scale our data so higher square root difference does not dominate the lower one.\n",
        "sc_x = StandardScaler()  # scaling x if necessary\n",
        "x_train = sc_x.fit_transform(x_train)\n",
        "x_test = sc_x.transform(x_test)\n",
        "sc_y = StandardScaler()  # scaling y if necessary\n",
        "y_train = sc_y.fit_transform(y_train)\n",
        "\"\"\"\n",
        "\n",
        "# fitting the regression model into dataset\n",
        "# create regressor here (mean import library of whatever regression type you want to use)\n",
        "from sklearn.ensemble import RandomForestRegressor\n",
        "regressor = RandomForestRegressor(n_estimators=100, random_state=0)\n",
        "regressor.fit(x, y)\n",
        "\n",
        "# Predicting a new result with Linear Regression\n",
        "y_predict = regressor.predict(np.array([[6.5]]))\n",
        "print(y_predict)\n",
        "\n",
        "# Visualising the Regression results (for higher resolution and smoother curve)\n",
        "x_grid = np.arange(min(x), max(x), 0.1)   # dividing x into small divisions to get smooth results\n",
        "x_grid = x_grid.reshape((len(x_grid), 1)) # // // // // // // // //// // // .. .. // // // // //\n",
        "plt.scatter(x, y, color = 'red')\n",
        "plt.plot(x_grid, regressor.predict(x_grid), color = 'blue')\n",
        "plt.title('Truth or Bluff (Polynomial Regression)')\n",
        "plt.xlabel('Position level')\n",
        "plt.ylabel('Salary')\n",
        "plt.show()\n"
      ],
      "execution_count": 3,
      "outputs": [
        {
          "output_type": "stream",
          "text": [
            "[158300.]\n"
          ],
          "name": "stdout"
        },
        {
          "output_type": "display_data",
          "data": {
            "image/png": "[encoded data removed]",
            "text/plain": [
              "<Figure size 432x288 with 1 Axes>"
            ]
          },
          "metadata": {
            "tags": [],
            "needs_background": "light"
          }
        }
      ]
    }
  ]
}